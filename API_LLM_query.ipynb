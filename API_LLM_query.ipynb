{
 "cells": [
  {
   "cell_type": "code",
   "execution_count": 0,
   "metadata": {
    "application/vnd.databricks.v1+cell": {
     "cellMetadata": {
      "byteLimit": 2048000,
      "rowLimit": 10000
     },
     "inputWidgets": {},
     "nuid": "d1ab37b8-160c-408f-a897-f55d2f59c888",
     "showTitle": false,
     "tableResultSettingsMap": {},
     "title": ""
    }
   },
   "outputs": [],
   "source": [
    "%pip install openai"
   ]
  },
  {
   "cell_type": "code",
   "execution_count": 0,
   "metadata": {
    "application/vnd.databricks.v1+cell": {
     "cellMetadata": {
      "byteLimit": 2048000,
      "rowLimit": 10000
     },
     "inputWidgets": {},
     "nuid": "8b4ceb72-731a-4ac8-b6a0-36b39157f0ce",
     "showTitle": false,
     "tableResultSettingsMap": {},
     "title": ""
    }
   },
   "outputs": [],
   "source": [
    "from openai import OpenAI\n",
    "import os\n",
    "\n",
    "# INPUTS\n",
    "API_URL = \"https://api.education.gov.uk/statistics/v1/data-sets/1d419801-435d-c676-b428-1217e08290c3/csv?dataSetVersion=1.0\"\n",
    "numeric_cols = [\"achievements_percent\", \"starts_percent\", \"participation_count\", \"achievement_count\", \"start_count\"]\n",
    "\n",
    "\n",
    "DATABRICKS_TOKEN = dbutils.notebook.entry_point.getDbutils().notebook().getContext().apiToken().get()\n",
    "\n",
    "client = OpenAI(\n",
    "    api_key=DATABRICKS_TOKEN,\n",
    "    base_url=\"https://adb-2220072380334347.7.azuredatabricks.net/serving-endpoints\"\n",
    ")\n",
    "\n",
    "response = client.chat.completions.create(\n",
    "    model=\"databricks-llama-4-maverick\",\n",
    "    messages=[\n",
    "        {\n",
    "            \"role\": \"system\",\n",
    "            \"content\": \"you are an analyst\"\n",
    "        },\n",
    "\n",
    "        {\n",
    "            \"role\": \"user\",\n",
    "            \"content\": f\"\"\"write Python code to read in and quality assure the data on this API: {API_URL}. Please check for outliers,  missing values, and data type. Please also present summary statistics on the data. Do NOT include any backticks in your response.\n",
    "            \n",
    "\n",
    "            Please convert any columns mentioned in {numeric_cols} to numeric type using pandas. This is very important.\n",
    "\n",
    "            Please output **only** valid, bug-free Python code. Ensure that:\n",
    "            1. The code is properly indented.\n",
    "            2. Do not include any markdown or formatting characters like backticks (`), triple quotes (```), or explanations.\n",
    "            3. The code should be plain Python without any comments, explanations, or descriptions.\n",
    "            4. Ensure the code is formatted to be executable without further modifications, with the correct indentation maintained throughout.\n",
    "            5. Print all the outputs at the end.\"\"\"\n",
    "        }\n",
    "    ],\n",
    "    max_tokens=8000\n",
    ")\n",
    "\n",
    "generated_code = response.choices[0].message.content\n",
    "\n",
    "exec(generated_code, globals())"
   ]
  },
  {
   "cell_type": "code",
   "execution_count": 0,
   "metadata": {
    "application/vnd.databricks.v1+cell": {
     "cellMetadata": {
      "byteLimit": 2048000,
      "rowLimit": 10000
     },
     "inputWidgets": {},
     "nuid": "2eac731b-7eec-4aaf-af7c-80660fd6468f",
     "showTitle": false,
     "tableResultSettingsMap": {},
     "title": ""
    }
   },
   "outputs": [],
   "source": [
    "print(generated_code)"
   ]
  }
 ],
 "metadata": {
  "application/vnd.databricks.v1+notebook": {
   "computePreferences": null,
   "dashboards": [],
   "environmentMetadata": {
    "base_environment": "",
    "environment_version": "3"
   },
   "inputWidgetPreferences": null,
   "language": "python",
   "notebookMetadata": {
    "pythonIndentUnit": 4
   },
   "notebookName": "API_LLM_query",
   "widgets": {}
  },
  "language_info": {
   "name": "python"
  }
 },
 "nbformat": 4,
 "nbformat_minor": 0
}
