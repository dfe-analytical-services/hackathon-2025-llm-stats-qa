{
 "cells": [
  {
   "cell_type": "code",
   "execution_count": 0,
   "metadata": {
    "application/vnd.databricks.v1+cell": {
     "cellMetadata": {
      "byteLimit": 2048000,
      "rowLimit": 10000
     },
     "inputWidgets": {},
     "nuid": "86a78c3a-0272-498a-8df4-9f73c19176eb",
     "showTitle": false,
     "tableResultSettingsMap": {},
     "title": ""
    }
   },
   "outputs": [],
   "source": [
    "%pip install openai pandas openpyxl\n",
    "%pip install python-docx"
   ]
  },
  {
   "cell_type": "code",
   "execution_count": 0,
   "metadata": {
    "application/vnd.databricks.v1+cell": {
     "cellMetadata": {
      "byteLimit": 2048000,
      "rowLimit": 10000
     },
     "inputWidgets": {},
     "nuid": "9c5a92d3-6d52-46c7-8676-6d46fb0eabbf",
     "showTitle": false,
     "tableResultSettingsMap": {},
     "title": ""
    }
   },
   "outputs": [],
   "source": [
    "import os\n",
    "import openai\n",
    "import pandas as pd\n",
    "import json\n",
    "import openpyxl\n",
    "import random"
   ]
  },
  {
   "cell_type": "code",
   "execution_count": 0,
   "metadata": {
    "application/vnd.databricks.v1+cell": {
     "cellMetadata": {
      "byteLimit": 2048000,
      "rowLimit": 10000
     },
     "inputWidgets": {},
     "nuid": "fe002a2e-f7eb-4073-a3bb-034f9b7f4b9e",
     "showTitle": false,
     "tableResultSettingsMap": {},
     "title": ""
    }
   },
   "outputs": [],
   "source": [
    "from openai import OpenAI\n",
    "import os\n",
    "\n",
    "# How to get your Databricks token: https://docs.databricks.com/en/dev-tools/auth/pat.html\n",
    "DATABRICKS_TOKEN = dbutils.notebook.entry_point.getDbutils().notebook().getContext().apiToken().get()\n",
    "\n",
    "client = OpenAI(\n",
    "    api_key=DATABRICKS_TOKEN,\n",
    "    base_url=\"https://adb-2220072380334347.7.azuredatabricks.net/serving-endpoints\"\n",
    ")\n",
    "\n",
    "response = client.chat.completions.create(\n",
    "    model=\"databricks-claude-3-7-sonnet\",\n",
    "    messages=[\n",
    "        {\n",
    "            \"role\": \"user\",\n",
    "            \"content\": \"You are a helpful assistant whose role is to quality assure the content in the input data. Your tasks inclValidating accuracy of the provided information.Cross-checking consistency of the content with any tables, plots, or visual data representations given.Highlighting discrepancies or errors between the written content and the numerical/graphical data.\"\n",
    "        }\n",
    "    ],\n",
    "    max_tokens=5000\n",
    ")\n",
    "\n",
    "print(response.choices[0].message.content)"
   ]
  },
  {
   "cell_type": "code",
   "execution_count": 0,
   "metadata": {
    "application/vnd.databricks.v1+cell": {
     "cellMetadata": {
      "byteLimit": 2048000,
      "rowLimit": 10000
     },
     "inputWidgets": {},
     "nuid": "daec9159-4f10-4fdb-b90f-095ce30c0649",
     "showTitle": false,
     "tableResultSettingsMap": {},
     "title": ""
    }
   },
   "outputs": [],
   "source": [
    "# Load the Word file which is in the same folder\n",
    "try:    import docx\n",
    "except ModuleNotFoundError:\n",
    "    print(\"The 'python-docx' package is not installed. Please install it in your environment.\")\n",
    "\n",
    "# Load the Word file which is in the same folder\n",
    "doc = docx.Document(\"ecf_text.docx\")\n",
    "\n",
    "\n",
    "# Display the content of the Word file\n",
    "for para in doc.paragraphs:\n",
    "    print(para.text)"
   ]
  },
  {
   "cell_type": "code",
   "execution_count": 0,
   "metadata": {
    "application/vnd.databricks.v1+cell": {
     "cellMetadata": {
      "byteLimit": 2048000,
      "rowLimit": 10000
     },
     "inputWidgets": {},
     "nuid": "0e7e00bf-1b47-4b25-909f-2096c516f9d9",
     "showTitle": false,
     "tableResultSettingsMap": {},
     "title": ""
    }
   },
   "outputs": [],
   "source": [
    "##checking for headlines: \n",
    "text = \"\\n\".join([para.text for para in doc.paragraphs if para.text.strip()])\n",
    "\n",
    "# Initialize Databricks LLM client\n",
    "DATABRICKS_TOKEN = dbutils.notebook.entry_point.getDbutils().notebook().getContext().apiToken().get()\n",
    "\n",
    "client = OpenAI(\n",
    "    api_key=DATABRICKS_TOKEN,\n",
    "    base_url=\"https://adb-2220072380334347.7.azuredatabricks.net/serving-endpoints\"   # replace with your Databricks endpoint\n",
    ")\n",
    "\n",
    "# Simple query to check if the LLM understands\n",
    "response = client.chat.completions.create(\n",
    "    model=\"databricks-claude-3-7-sonnet\",\n",
    "    messages=[\n",
    "        {\n",
    "            \"role\": \"user\",\n",
    "            \"content\": f\"Here is my document text:\\n\\n{text}\\n\\nCan you list any headlines you detect?\"\n",
    "        }\n",
    "    ],\n",
    "    max_tokens=500\n",
    ")\n",
    "\n",
    "doc_headlines = response.choices[0].message.content.split(\"\\n\")\n",
    "doc_headlines = [h.strip() for h in doc_headlines if h.strip()]"
   ]
  },
  {
   "cell_type": "code",
   "execution_count": 0,
   "metadata": {
    "application/vnd.databricks.v1+cell": {
     "cellMetadata": {
      "byteLimit": 2048000,
      "rowLimit": 10000
     },
     "inputWidgets": {},
     "nuid": "23765fdb-7cab-4f5c-acdd-4907304a1cf0",
     "showTitle": false,
     "tableResultSettingsMap": {},
     "title": ""
    }
   },
   "outputs": [],
   "source": [
    "print(doc_headlines)"
   ]
  },
  {
   "cell_type": "code",
   "execution_count": 0,
   "metadata": {
    "application/vnd.databricks.v1+cell": {
     "cellMetadata": {
      "byteLimit": 2048000,
      "rowLimit": 10000
     },
     "inputWidgets": {},
     "nuid": "711fdd43-164c-4f40-9972-8f89f5353183",
     "showTitle": false,
     "tableResultSettingsMap": {},
     "title": ""
    }
   },
   "outputs": [],
   "source": [
    "import pandas as pd\n",
    "\n",
    "# Load the CSV file\n",
    "csv_df = pd.read_csv(\"teacher_leader_development_ecf_2024_25.csv\")\n",
    "meta_df =pd.read_csv(\"teacher_leader_development_ecf_2024_25.meta.csv\")\n",
    "mentors =pd.read_csv(\"teacher_leader_development_ecf_mentor_2024_25.csv\")\n",
    "mentors_meta = pd.read_csv(\"teacher_leader_development_ecf_mentor_2024_25.meta.csv\")\n",
    "retention = pd.read_csv(\"teacher_leader_development_ecf_retention_2024_25.csv\")\n",
    "retention_meta = pd.read_csv(\"teacher_leader_development_ecf_retention_2024_25.meta.csv\")"
   ]
  },
  {
   "cell_type": "code",
   "execution_count": 0,
   "metadata": {
    "application/vnd.databricks.v1+cell": {
     "cellMetadata": {
      "byteLimit": 2048000,
      "rowLimit": 10000
     },
     "inputWidgets": {},
     "nuid": "19b0c364-d0c4-4fd5-ba89-5bb985fd5893",
     "showTitle": false,
     "tableResultSettingsMap": {},
     "title": ""
    }
   },
   "outputs": [],
   "source": [
    "##### now onto the csv files: only keeping the values which are relavnt for healdines:  \n",
    "# #Function to filter a dataframe: keep 'time_period' plus columns from 'breakdown' to 'group_name'\n",
    "def filter_df(df):\n",
    "    if \"breakdown\" in df.columns and \"time_period\" in df.columns:\n",
    "        start_idx = df.columns.get_loc(\"breakdown\")\n",
    "        # Keep all columns from \"breakdown\" to the end\n",
    "        cols_to_keep = [\"time_period\"] + list(df.columns[start_idx:])\n",
    "        return df[cols_to_keep]\n",
    "    else:\n",
    "        print(\"One or more required columns are missing.\")\n",
    "        return df\n",
    "\n",
    "\n",
    "# Apply filtering\n",
    "filtered_csv_df = filter_df(csv_df)\n",
    "filtered_mentors = filter_df(mentors)\n",
    "filtered_retention = filter_df(retention)"
   ]
  },
  {
   "cell_type": "code",
   "execution_count": 0,
   "metadata": {
    "application/vnd.databricks.v1+cell": {
     "cellMetadata": {
      "byteLimit": 2048000,
      "rowLimit": 10000
     },
     "inputWidgets": {},
     "nuid": "04b53284-7306-4450-8ed4-e13583f50cc2",
     "showTitle": false,
     "tableResultSettingsMap": {},
     "title": ""
    }
   },
   "outputs": [],
   "source": [
    "# Preview\n",
    "print(filtered_csv_df.head())\n",
    "print(filtered_mentors.head())\n",
    "print(filtered_retention.head())"
   ]
  },
  {
   "cell_type": "code",
   "execution_count": 0,
   "metadata": {
    "application/vnd.databricks.v1+cell": {
     "cellMetadata": {
      "byteLimit": 2048000,
      "rowLimit": 10000
     },
     "inputWidgets": {},
     "nuid": "97138e63-0efc-4d03-94ba-a881d35d9717",
     "showTitle": false,
     "tableResultSettingsMap": {},
     "title": ""
    }
   },
   "outputs": [],
   "source": [
    "import re\n",
    "\n",
    "def extract_numbers_from_df(df):\n",
    "    \"\"\"Extract all integers from all columns in a DataFrame.\"\"\"\n",
    "    numbers = set()\n",
    "    for col in df.columns:\n",
    "        # Convert everything to string to make regex work\n",
    "        for val in df[col].astype(str):\n",
    "            found = re.findall(r'\\d+', val)\n",
    "            numbers.update(map(int, found))\n",
    "    return numbers"
   ]
  },
  {
   "cell_type": "code",
   "execution_count": 0,
   "metadata": {
    "application/vnd.databricks.v1+cell": {
     "cellMetadata": {
      "byteLimit": 2048000,
      "rowLimit": 10000
     },
     "inputWidgets": {},
     "nuid": "6cfe7a13-6189-4b44-ae38-be4f1d7a77b1",
     "showTitle": false,
     "tableResultSettingsMap": {},
     "title": ""
    }
   },
   "outputs": [],
   "source": [
    "# Extract numbers from each filtered DataFrame\n",
    "csv_numbers = extract_numbers_from_df(filtered_csv_df)\n",
    "mentor_numbers = extract_numbers_from_df(filtered_mentors)\n",
    "retention_numbers = extract_numbers_from_df(filtered_retention)"
   ]
  },
  {
   "cell_type": "code",
   "execution_count": 0,
   "metadata": {
    "application/vnd.databricks.v1+cell": {
     "cellMetadata": {
      "byteLimit": 2048000,
      "rowLimit": 10000
     },
     "inputWidgets": {},
     "nuid": "4e74d0fe-ae16-496d-a4fa-b74d67533892",
     "showTitle": false,
     "tableResultSettingsMap": {},
     "title": ""
    }
   },
   "outputs": [],
   "source": [
    "# Combine all CSV numbers into one list\n",
    "all_csv_numbers = csv_numbers | mentor_numbers | retention_numbers"
   ]
  },
  {
   "cell_type": "code",
   "execution_count": 0,
   "metadata": {
    "application/vnd.databricks.v1+cell": {
     "cellMetadata": {
      "byteLimit": 2048000,
      "rowLimit": 10000
     },
     "inputWidgets": {},
     "nuid": "4bc6480d-087e-4a50-a875-f4558bad741b",
     "showTitle": false,
     "tableResultSettingsMap": {},
     "title": ""
    }
   },
   "outputs": [],
   "source": [
    "#### extract numbers from text data\n",
    "import re\n",
    "\n",
    "# Join all lines into one string\n",
    "text = \" \".join(doc_headlines)\n",
    "\n",
    "# Regex to find numbers (integers, decimals, and numbers with commas)\n",
    "all_numbers = re.findall(r'\\d[\\d,]*\\.?\\d*', text)\n",
    "\n",
    "# Convert numbers to int or float\n",
    "numbers = []\n",
    "for num in all_numbers:\n",
    "    # Ignore years like 2021-2024\n",
    "    if re.match(r'^(20\\d{2})$', num):\n",
    "        continue\n",
    "    # Ignore fiscal-year style numbers like 2023/24\n",
    "    if re.match(r'^20\\d{2}/\\d{2}$', num):\n",
    "        continue\n",
    "    # Convert to int or float\n",
    "    numbers.append(float(num.replace(',', '')) if '.' in num else int(num.replace(',', '')))\n",
    "\n",
    "print(numbers)\n"
   ]
  },
  {
   "cell_type": "code",
   "execution_count": 0,
   "metadata": {
    "application/vnd.databricks.v1+cell": {
     "cellMetadata": {
      "byteLimit": 2048000,
      "rowLimit": 10000
     },
     "inputWidgets": {},
     "nuid": "94339db1-02fe-495e-8d5a-aa18f9a93799",
     "showTitle": false,
     "tableResultSettingsMap": {},
     "title": ""
    }
   },
   "outputs": [],
   "source": [
    "diff_text_not_in_csv = [num for num in numbers if num not in all_csv_numbers]\n",
    "diff_csv_not_in_text = [num for num in all_csv_numbers if num not in numbers]\n",
    "\n",
    "print(\"Numbers in text but not in CSVs:\", diff_text_not_in_csv)"
   ]
  },
  {
   "cell_type": "code",
   "execution_count": 0,
   "metadata": {
    "application/vnd.databricks.v1+cell": {
     "cellMetadata": {
      "byteLimit": 2048000,
      "rowLimit": 10000
     },
     "inputWidgets": {},
     "nuid": "71df2af5-21fc-49e8-8314-a6d74eeaf1a1",
     "showTitle": false,
     "tableResultSettingsMap": {},
     "title": ""
    }
   },
   "outputs": [],
   "source": [
    "###### OR ask LLM to do it: \n",
    "\n",
    "# Join all lines into one string\n",
    "text = \" \".join(doc_headlines)\n",
    "\n",
    "# Regex to find numbers (integers, decimals, and numbers with commas)\n",
    "all_numbers = re.findall(r'\\d[\\d,]*\\.?\\d*', text)\n",
    "\n",
    "# Convert numbers to int or float\n",
    "numbers = []\n",
    "for num in all_numbers:\n",
    "    # Ignore years like 2021-2024\n",
    "    if re.match(r'^(20\\d{2})$', num):\n",
    "        continue\n",
    "    # Ignore fiscal-year style numbers like 2023/24\n",
    "    if re.match(r'^20\\d{2}/\\d{2}$', num):\n",
    "        continue\n",
    "    # Convert to int or float\n",
    "    numbers.append(float(num.replace(',', '')) if '.' in num else int(num.replace(',', '')))\n",
    "\n",
    "print(numbers)"
   ]
  },
  {
   "cell_type": "code",
   "execution_count": 0,
   "metadata": {
    "application/vnd.databricks.v1+cell": {
     "cellMetadata": {},
     "inputWidgets": {},
     "nuid": "58184f05-09f0-4a16-8f87-ed9edd2a8ce5",
     "showTitle": true,
     "tableResultSettingsMap": {},
     "title": "Trailing out AI assistant"
    }
   },
   "outputs": [],
   "source": [
    "from openai import OpenAI\n",
    "import os\n",
    "\n",
    "# How to get your Databricks token: https://docs.databricks.com/en/dev-tools/auth/pat.html\n",
    "DATABRICKS_TOKEN = dbutils.notebook.entry_point.getDbutils().notebook().getContext().apiToken().get()\n",
    "\n",
    "client = OpenAI(\n",
    "    api_key=DATABRICKS_TOKEN,\n",
    "    base_url=\"https://adb-2220072380334347.7.azuredatabricks.net/serving-endpoints\"\n",
    ")\n",
    "\n",
    "response = client.chat.completions.create(\n",
    "    model=\"databricks-claude-3-7-sonnet\",\n",
    "    messages=[\n",
    "        {\n",
    "            \"role\": \"user\",\n",
    "            \"content\": \"You are a highly attentive assistant responsible for performing quality assurance on the provided text and table data. Your tasks are:Verify Figures: Check that all numerical values in the text match the corresponding figures in the table. Highlight any discrepancies.Validate Commentary: Ensure that the commentary is logical, accurate, and consistent with the table data. Identify any misleading, unclear, or contradictory statements.Clarity & Consistency: Check for grammar, spelling, and formatting errors that could affect readability or comprehension.Provide Feedback: List any issues found and suggest corrections or improvements\"\n",
    "        }\n",
    "    ],\n",
    "    max_tokens=5000\n",
    ")\n",
    "\n",
    "print(response.choices[0].message.content)"
   ]
  },
  {
   "cell_type": "code",
   "execution_count": 0,
   "metadata": {
    "application/vnd.databricks.v1+cell": {
     "cellMetadata": {
      "byteLimit": 2048000,
      "rowLimit": 10000
     },
     "inputWidgets": {},
     "nuid": "7935547f-64ad-4ae3-88c8-df25adc2d963",
     "showTitle": false,
     "tableResultSettingsMap": {},
     "title": ""
    }
   },
   "outputs": [],
   "source": [
    "prompt = f\"\"\"\n",
    "You are a highly attentive assistant responsible for performing quality assurance on the provided text and table data.\n",
    "\n",
    "Text:\n",
    "{doc_headlines}\n",
    "\n",
    "Table:\n",
    "{filtered_csv_df.to_csv(index=False)}\n",
    "\n",
    "Your tasks:\n",
    "1. Verify Figures: Check that all numerical values in the text match the corresponding figures in the table. Highlight any discrepancies.\n",
    "2. Validate Commentary: Ensure that the commentary is logical, accurate, and consistent with the table data. Identify any misleading, unclear, or contradictory statements.\n",
    "3. Clarity & Consistency: Check for grammar, spelling, and formatting errors that could affect readability or comprehension.\n",
    "4. Provide Feedback: List any issues found and suggest corrections or improvements.\n",
    "\n",
    "Please provide the output in JSON format with keys:\n",
    "'figure_discrepancies', 'commentary_issues', 'grammar_issues', 'suggestions'\n",
    "\"\"\"\n",
    "\n"
   ]
  },
  {
   "cell_type": "code",
   "execution_count": 0,
   "metadata": {
    "application/vnd.databricks.v1+cell": {
     "cellMetadata": {
      "byteLimit": 2048000,
      "rowLimit": 10000
     },
     "inputWidgets": {},
     "nuid": "fcccbe5f-3aae-4163-8b85-480fa6a7139c",
     "showTitle": false,
     "tableResultSettingsMap": {},
     "title": ""
    }
   },
   "outputs": [],
   "source": [
    "# --------------------------\n",
    "DATABRICKS_TOKEN = dbutils.notebook.entry_point.getDbutils().notebook().getContext().apiToken().get()\n",
    "\n",
    "client = OpenAI(\n",
    "    api_key=DATABRICKS_TOKEN,\n",
    "    base_url=\"https://adb-2220072380334347.7.azuredatabricks.net/serving-endpoints\"\n",
    ")\n",
    "\n",
    "# --------------------------\n",
    "# Step 3: Call the LLM\n",
    "# --------------------------\n",
    "response = client.chat.completions.create(\n",
    "    model=\"databricks-claude-3-7-sonnet\",\n",
    "    messages=[{\"role\": \"user\", \"content\": prompt}],\n",
    "    max_tokens=5000\n",
    ")"
   ]
  },
  {
   "cell_type": "code",
   "execution_count": 0,
   "metadata": {
    "application/vnd.databricks.v1+cell": {
     "cellMetadata": {
      "byteLimit": 2048000,
      "rowLimit": 10000
     },
     "inputWidgets": {},
     "nuid": "61d37e02-73f6-45ec-9eaa-316b2c1442ec",
     "showTitle": false,
     "tableResultSettingsMap": {},
     "title": ""
    }
   },
   "outputs": [],
   "source": [
    "print(response.choices[0].message.content)"
   ]
  },
  {
   "cell_type": "code",
   "execution_count": 0,
   "metadata": {
    "application/vnd.databricks.v1+cell": {
     "cellMetadata": {
      "byteLimit": 2048000,
      "rowLimit": 10000
     },
     "inputWidgets": {},
     "nuid": "0d44dbf7-b856-4d7c-8af9-ab94e9358f24",
     "showTitle": true,
     "tableResultSettingsMap": {},
     "title": "produce a mark down"
    }
   },
   "outputs": [],
   "source": [
    "from IPython.display import Markdown, display\n",
    "\n",
    "output_text = response.choices[0].message.content\n",
    "\n",
    "# Display as Markdown\n",
    "display(Markdown(output_text))\n"
   ]
  },
  {
   "cell_type": "code",
   "execution_count": 0,
   "metadata": {
    "application/vnd.databricks.v1+cell": {
     "cellMetadata": {
      "byteLimit": 2048000,
      "rowLimit": 10000
     },
     "inputWidgets": {},
     "nuid": "bed4dd26-bfc6-42b0-983b-ddc2c87a4fca",
     "showTitle": false,
     "tableResultSettingsMap": {},
     "title": ""
    }
   },
   "outputs": [],
   "source": [
    "prompt = f\"\"\"\n",
    "You are a highly attentive assistant responsible for performing quality assurance on the provided text and table data.\n",
    "\n",
    "Text:\n",
    "{doc_headlines}\n",
    "\n",
    "Table:\n",
    "{filtered_csv_df.to_csv(index=False)}\n",
    "\n",
    "Your tasks:\n",
    "1. Check if the figures in doc_headlines matches to the numbers in filtered_csv_df\n",
    "\n",
    "Please provide the output in JSON format with keys:\n",
    "'figure_discrepancies', 'commentary_issues', 'grammar_issues', 'suggestions'\n",
    "\"\"\""
   ]
  },
  {
   "cell_type": "code",
   "execution_count": 0,
   "metadata": {
    "application/vnd.databricks.v1+cell": {
     "cellMetadata": {
      "byteLimit": 2048000,
      "rowLimit": 10000
     },
     "inputWidgets": {},
     "nuid": "f0055fc6-49e1-4357-b644-26a277decd4c",
     "showTitle": false,
     "tableResultSettingsMap": {},
     "title": ""
    }
   },
   "outputs": [],
   "source": [
    "# --------------------------\n",
    "DATABRICKS_TOKEN = dbutils.notebook.entry_point.getDbutils().notebook().getContext().apiToken().get()\n",
    "\n",
    "client = OpenAI(\n",
    "    api_key=DATABRICKS_TOKEN,\n",
    "    base_url=\"https://adb-2220072380334347.7.azuredatabricks.net/serving-endpoints\"\n",
    ")\n",
    "\n",
    "# --------------------------\n",
    "# Step 3: Call the LLM\n",
    "# --------------------------\n",
    "response = client.chat.completions.create(\n",
    "    model=\"databricks-claude-3-7-sonnet\",\n",
    "    messages=[{\"role\": \"user\", \"content\": prompt}],\n",
    "    max_tokens=5000\n",
    ")"
   ]
  },
  {
   "cell_type": "code",
   "execution_count": 0,
   "metadata": {
    "application/vnd.databricks.v1+cell": {
     "cellMetadata": {
      "byteLimit": 2048000,
      "rowLimit": 10000
     },
     "inputWidgets": {},
     "nuid": "a393ca78-8137-4b79-97ed-7c32843606b6",
     "showTitle": false,
     "tableResultSettingsMap": {},
     "title": ""
    }
   },
   "outputs": [],
   "source": [
    "print(response.choices[0].message.content)"
   ]
  },
  {
   "cell_type": "code",
   "execution_count": 0,
   "metadata": {
    "application/vnd.databricks.v1+cell": {
     "cellMetadata": {
      "byteLimit": 2048000,
      "rowLimit": 10000
     },
     "inputWidgets": {},
     "nuid": "df565085-8f8d-4dc3-b3ef-c452500de0a0",
     "showTitle": false,
     "tableResultSettingsMap": {},
     "title": ""
    }
   },
   "outputs": [],
   "source": [
    "from IPython.display import Markdown, display"
   ]
  },
  {
   "cell_type": "code",
   "execution_count": 0,
   "metadata": {
    "application/vnd.databricks.v1+cell": {
     "cellMetadata": {
      "byteLimit": 2048000,
      "rowLimit": 10000
     },
     "inputWidgets": {},
     "nuid": "aeda4fcd-8395-462a-a7aa-ca16750a1753",
     "showTitle": false,
     "tableResultSettingsMap": {},
     "title": ""
    }
   },
   "outputs": [],
   "source": [
    "from IPython.display import display, Markdown\n",
    "\n",
    "# Correctly access the content attribute\n",
    "display(Markdown(response.choices[0].message.content))"
   ]
  }
 ],
 "metadata": {
  "application/vnd.databricks.v1+notebook": {
   "computePreferences": null,
   "dashboards": [],
   "environmentMetadata": {
    "base_environment": "",
    "environment_version": "3"
   },
   "inputWidgetPreferences": null,
   "language": "python",
   "notebookMetadata": {
    "pythonIndentUnit": 4
   },
   "notebookName": "QA_numbers_text",
   "widgets": {}
  },
  "language_info": {
   "name": "python"
  }
 },
 "nbformat": 4,
 "nbformat_minor": 0
}
