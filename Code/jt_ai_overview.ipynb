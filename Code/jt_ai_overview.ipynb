{
 "cells": [
  {
   "cell_type": "markdown",
   "metadata": {
    "application/vnd.databricks.v1+cell": {
     "cellMetadata": {},
     "inputWidgets": {},
     "nuid": "e73f5dfd-c042-4174-bc07-4aa046050420",
     "showTitle": false,
     "tableResultSettingsMap": {},
     "title": ""
    }
   },
   "source": [
    "Install libraries"
   ]
  },
  {
   "cell_type": "code",
   "execution_count": 0,
   "metadata": {
    "application/vnd.databricks.v1+cell": {
     "cellMetadata": {
      "byteLimit": 2048000,
      "rowLimit": 10000
     },
     "inputWidgets": {},
     "nuid": "a6cc6513-17ba-4890-8e67-8db5ed1a7cc2",
     "showTitle": false,
     "tableResultSettingsMap": {},
     "title": ""
    }
   },
   "outputs": [],
   "source": [
    "%pip install -qU openai databricks_langchain transformers\n",
    "dbutils.library.restartPython()"
   ]
  },
  {
   "cell_type": "markdown",
   "metadata": {
    "application/vnd.databricks.v1+cell": {
     "cellMetadata": {},
     "inputWidgets": {},
     "nuid": "561dd7ae-f79c-4ad5-a945-d7911cbb8780",
     "showTitle": false,
     "tableResultSettingsMap": {},
     "title": ""
    }
   },
   "source": [
    "Load libraries"
   ]
  },
  {
   "cell_type": "code",
   "execution_count": 0,
   "metadata": {
    "application/vnd.databricks.v1+cell": {
     "cellMetadata": {
      "byteLimit": 2048000,
      "rowLimit": 10000
     },
     "inputWidgets": {},
     "nuid": "cec0db13-ae34-47ac-9e22-1d0f97e4d2e6",
     "showTitle": false,
     "tableResultSettingsMap": {},
     "title": ""
    }
   },
   "outputs": [],
   "source": [
    "# LLM\n",
    "from openai import OpenAI\n",
    "import mlflow\n",
    "mlflow.tracing.disable_notebook_display()\n",
    "import tiktoken\n",
    "\n",
    "# Analysis\n",
    "import pandas as pd\n",
    "\n",
    "# General\n",
    "import os"
   ]
  },
  {
   "cell_type": "markdown",
   "metadata": {
    "application/vnd.databricks.v1+cell": {
     "cellMetadata": {},
     "inputWidgets": {},
     "nuid": "2964f202-9d3e-40f9-a3a7-99f3320d9301",
     "showTitle": false,
     "tableResultSettingsMap": {},
     "title": ""
    }
   },
   "source": [
    "Getting the LLM to do the work for me"
   ]
  },
  {
   "cell_type": "code",
   "execution_count": 0,
   "metadata": {
    "application/vnd.databricks.v1+cell": {
     "cellMetadata": {
      "byteLimit": 2048000,
      "rowLimit": 10000
     },
     "inputWidgets": {},
     "nuid": "8889ec40-093c-4dd2-99c0-6ad0d03e000d",
     "showTitle": false,
     "tableResultSettingsMap": {},
     "title": ""
    }
   },
   "outputs": [],
   "source": [
    "DATABRICKS_TOKEN = dbutils.notebook.entry_point.getDbutils().notebook().getContext().apiToken().get()\n",
    "\n",
    "client = OpenAI(\n",
    "    api_key=DATABRICKS_TOKEN,\n",
    "    base_url=\"https://adb-2220072380334347.7.azuredatabricks.net/serving-endpoints\"\n",
    ")\n",
    "\n",
    "response = client.chat.completions.create(\n",
    "    model=\"databricks-meta-llama-3-3-70b-instruct\",\n",
    "    messages=[\n",
    "        {\n",
    "            \"role\": \"user\",\n",
    "            \"content\": \"My task is to build a LLM process so that it can take a table of data and its metadata and provide an accurate and insightful overview of the data. How do you recommend doing this?\"\n",
    "        }\n",
    "    ],\n",
    "    max_tokens=5000\n",
    ")\n",
    "\n",
    "print(response.choices[0].message.content)"
   ]
  },
  {
   "cell_type": "markdown",
   "metadata": {
    "application/vnd.databricks.v1+cell": {
     "cellMetadata": {},
     "inputWidgets": {},
     "nuid": "d3ea5240-4cf4-4713-80ce-3f33b9073204",
     "showTitle": false,
     "tableResultSettingsMap": {},
     "title": ""
    }
   },
   "source": [
    "### Step 1: Data Preparation"
   ]
  },
  {
   "cell_type": "code",
   "execution_count": 0,
   "metadata": {
    "application/vnd.databricks.v1+cell": {
     "cellMetadata": {
      "byteLimit": 2048000,
      "rowLimit": 10000
     },
     "inputWidgets": {},
     "nuid": "7f15a7fe-e21c-4c55-8299-b247ff4aa8d4",
     "showTitle": false,
     "tableResultSettingsMap": {},
     "title": ""
    }
   },
   "outputs": [],
   "source": [
    "# Read in data\n",
    "ees_data = pd.read_csv(\"../data/202324_national_char_data_revised.csv\")\n",
    "ees_meta = pd.read_csv(\"../data/202324_national_char_data_revised.meta.csv\")\n",
    "\n",
    "print(\"EES Data:\\n\")\n",
    "ees_data.display()\n",
    "print(\"\\n---\\nEES Metadata:\\n\")\n",
    "ees_meta.display()"
   ]
  },
  {
   "cell_type": "markdown",
   "metadata": {
    "application/vnd.databricks.v1+cell": {
     "cellMetadata": {},
     "inputWidgets": {},
     "nuid": "78510c82-dcb5-4975-9765-cfef36e8f376",
     "showTitle": false,
     "tableResultSettingsMap": {},
     "title": ""
    }
   },
   "source": [
    "Give columns their full names"
   ]
  },
  {
   "cell_type": "code",
   "execution_count": 0,
   "metadata": {
    "application/vnd.databricks.v1+cell": {
     "cellMetadata": {
      "byteLimit": 2048000,
      "rowLimit": 10000
     },
     "inputWidgets": {},
     "nuid": "b20db9b8-ba31-4941-88e4-35d8da0b463d",
     "showTitle": false,
     "tableResultSettingsMap": {},
     "title": ""
    }
   },
   "outputs": [],
   "source": [
    "# Map the full column names to the dataset\n",
    "col_map = dict(zip(ees_meta[\"col_name\"], ees_meta[\"label\"]))\n",
    "ees_data_labelled = ees_data.rename(columns=col_map)"
   ]
  },
  {
   "cell_type": "markdown",
   "metadata": {
    "application/vnd.databricks.v1+cell": {
     "cellMetadata": {},
     "inputWidgets": {},
     "nuid": "176d5fad-9f0e-4a68-be0a-f8bf32b68b6d",
     "showTitle": false,
     "tableResultSettingsMap": {},
     "title": ""
    }
   },
   "source": [
    "Chunking the data"
   ]
  },
  {
   "cell_type": "code",
   "execution_count": 0,
   "metadata": {
    "application/vnd.databricks.v1+cell": {
     "cellMetadata": {
      "byteLimit": 2048000,
      "rowLimit": 10000
     },
     "inputWidgets": {},
     "nuid": "574a33f3-c366-4432-9eff-504499af8087",
     "showTitle": false,
     "tableResultSettingsMap": {},
     "title": ""
    }
   },
   "outputs": [],
   "source": [
    "# Keep latest data\n",
    "ees_data_max_date_total = ees_data_labelled[\n",
    "    # (ees_data_labelled[\"time_period\"] == ees_data_labelled[\"time_period\"].max()) &\n",
    "    (ees_data_labelled[\"breakdown\"] == \"Total\")\n",
    "]\n",
    "\n",
    "# ees_data_state_funded = ees_data_max_date[ees_data_max_date[\"School type\"] == \"All state-funded\"]\n",
    "\n",
    "ees_data_max_date_total.display()"
   ]
  },
  {
   "cell_type": "code",
   "execution_count": 0,
   "metadata": {
    "application/vnd.databricks.v1+cell": {
     "cellMetadata": {
      "byteLimit": 2048000,
      "rowLimit": 10000
     },
     "inputWidgets": {},
     "nuid": "b6783c9e-e3e1-4ab4-b20f-d2d95140f988",
     "showTitle": false,
     "tableResultSettingsMap": {},
     "title": ""
    }
   },
   "outputs": [],
   "source": [
    "# Convert to CSV string (limit rows!)\n",
    "ees_data_snippet = ees_data_max_date_total.to_csv(index=False)\n",
    "\n",
    "# Initialize the tokenizer for the 'databricks-meta-llama-3-3-70b-instruct' model\n",
    "enc = tiktoken.get_encoding(\"cl100k_base\")\n",
    "\n",
    "# Encode the text to get the token count\n",
    "token_count = len(enc.encode(ees_data_snippet))\n",
    "print(f\"Token count: {token_count}\")"
   ]
  },
  {
   "cell_type": "markdown",
   "metadata": {
    "application/vnd.databricks.v1+cell": {
     "cellMetadata": {},
     "inputWidgets": {},
     "nuid": "0338a43a-02e8-4c99-93a3-1ea4de88e0a8",
     "showTitle": false,
     "tableResultSettingsMap": {},
     "title": ""
    }
   },
   "source": [
    "### Step 2: LLM"
   ]
  },
  {
   "cell_type": "markdown",
   "metadata": {
    "application/vnd.databricks.v1+cell": {
     "cellMetadata": {},
     "inputWidgets": {},
     "nuid": "15a8e450-d9f5-47d1-92c1-092d5a1f0f84",
     "showTitle": false,
     "tableResultSettingsMap": {},
     "title": ""
    }
   },
   "source": [
    "Simple prompt"
   ]
  },
  {
   "cell_type": "code",
   "execution_count": 0,
   "metadata": {
    "application/vnd.databricks.v1+cell": {
     "cellMetadata": {
      "byteLimit": 2048000,
      "rowLimit": 10000
     },
     "inputWidgets": {},
     "nuid": "24918520-33fb-47b1-af9f-8fa34f2c95d3",
     "showTitle": false,
     "tableResultSettingsMap": {},
     "title": ""
    }
   },
   "outputs": [],
   "source": [
    "\n",
    "simple_response = client.chat.completions.create(\n",
    "    model=\"databricks-meta-llama-3-3-70b-instruct\",\n",
    "    messages=[\n",
    "        {\n",
    "            \"role\": \"system\",\n",
    "            \"content\": \"You are an expert data analyst at the Department for Education.\"\n",
    "        },\n",
    "        {\n",
    "            \"role\": \"user\",\n",
    "            \"content\": f\"\"\"\n",
    "            Below is the Data set from Key stage 4 performance National characteristics data in CSV format:\n",
    "            {ees_data_snippet}\n",
    "            \n",
    "            Please provide a short, accurate and insightful summary of the Latest headline data for pupils at the end of Key Stage 4 in 2023/24. Including:\n",
    "            1. An overview of what the story the data is telling.\n",
    "            2. Key statistics, including time series comparisons.\n",
    "            3. Notable patterns or trends.\n",
    "            \"\"\"\n",
    "        }\n",
    "    ],\n",
    "    max_tokens=5000\n",
    ")\n",
    "\n",
    "print(simple_response.choices[0].message.content)"
   ]
  },
  {
   "cell_type": "markdown",
   "metadata": {
    "application/vnd.databricks.v1+cell": {
     "cellMetadata": {},
     "inputWidgets": {},
     "nuid": "6051705d-643a-4d40-a6c4-6325963c5c3d",
     "showTitle": false,
     "tableResultSettingsMap": {},
     "title": ""
    }
   },
   "source": [
    "Asking LLM to QA the headline summary"
   ]
  },
  {
   "cell_type": "code",
   "execution_count": 0,
   "metadata": {
    "application/vnd.databricks.v1+cell": {
     "cellMetadata": {
      "byteLimit": 2048000,
      "rowLimit": 10000
     },
     "inputWidgets": {},
     "nuid": "5a460294-a3d2-495b-9422-4bd5d4049560",
     "showTitle": false,
     "tableResultSettingsMap": {},
     "title": ""
    }
   },
   "outputs": [],
   "source": [
    "latest_headline_data_summary = f\"\"\"\n",
    "Average Attainment 8 has decreased compared with last year and 2018/19. The average Attainment 8 score is 45.9 in 2024, which has decreased by 0.4 points since 2022/23 from 46.3, and decreased by 0.8 points from 46.7 in 2018/19. The decrease in Attainment 8 in 2023/24 has been driven by a decrease in the open bucket, and in particular non-GCSEs i.e. Vocational Technical Qualifications (VTQs). This follows reforms designed to strengthen KS4 Technical Awards awarded for the first time in 2024. See the ‘Comparing KS4 measures over time’ section for more information.\n",
    "45.9% of pupils achieved a grade 5 or higher in both English and maths. This is an increase of 0.6 percentage points (from 45.3%) compared to 2022/23, and an increase of 2.7 percentage points (from 43.2%) in comparison with 2018/19.\n",
    "40.4% of pupils were entered into the full EBacc. This is the highest EBacc entry rate since the measure was introduced. This is also an increase of 1.1 percentage points in comparison with 2022/23. In 2018/19 40.0% of pupils were entered into the full EBacc.\n",
    "Average EBacc APS in 2024 has increased by 0.02 to 4.07 compared with last year, and is now the same score as in 2019.\n",
    "The KS4 disadvantage gap index has narrowed slightly compared to 2022/23, from 3.94 to 3.92. Before the pandemic, the gap index had widened going from 3.66 to 3.70 between 2017 and 2019, before narrowing slightly in 2020 to 3.66 when centre assessed grades were used.\n",
    "\"\"\"\n",
    "\n",
    "latest_headline_data_summary_incorrect = f\"\"\"\n",
    "Average Attainment 8 has decreased compared with last year and 2018/19. The average Attainment 8 score is 50.1 in 2024, which has decreased by 0.4 points since 2022/23 from 46.3, and decreased by 0.8 points from 46.7 in 2018/19. The decrease in Attainment 8 in 2023/24 has been driven by a decrease in the open bucket, and in particular non-GCSEs i.e. Vocational Technical Qualifications (VTQs). This follows reforms designed to strengthen KS4 Technical Awards awarded for the first time in 2024. See the ‘Comparing KS4 measures over time’ section for more information.\n",
    "45.9% of pupils achieved a grade 5 or higher in both English and maths. This is an increase of 0.6 percentage points (from 45.3%) compared to 2022/23, and an increase of 2.7 percentage points (from 43.2%) in comparison with 2018/19.\n",
    "40.4% of pupils were entered into the full EBacc. This is the highest EBacc entry rate since the measure was introduced. This is also an increase of 1.1 percentage points in comparison with 2022/23. In 2018/19 40.0% of pupils were entered into the full EBacc.\n",
    "Average EBacc APS in 2024 has increased by 0.02 to 4.07 compared with last year, and is now the same score as in 2019.\n",
    "The KS4 disadvantage gap index has narrowed slightly compared to 2022/23, from 3.94 to 3.92. Before the pandemic, the gap index had widened going from 3.66 to 3.70 between 2017 and 2019, before narrowing slightly in 2020 to 3.66 when centre assessed grades were used.\n",
    "\"\"\""
   ]
  },
  {
   "cell_type": "markdown",
   "metadata": {
    "application/vnd.databricks.v1+cell": {
     "cellMetadata": {},
     "inputWidgets": {},
     "nuid": "12f63f0e-cb9a-40e2-9afa-71c1fc571685",
     "showTitle": false,
     "tableResultSettingsMap": {},
     "title": ""
    }
   },
   "source": [
    "The true headline summary"
   ]
  },
  {
   "cell_type": "code",
   "execution_count": 0,
   "metadata": {
    "application/vnd.databricks.v1+cell": {
     "cellMetadata": {
      "byteLimit": 2048000,
      "rowLimit": 10000
     },
     "inputWidgets": {},
     "nuid": "ea4f5893-7659-4e0a-a882-87086e5b14bd",
     "showTitle": false,
     "tableResultSettingsMap": {},
     "title": ""
    }
   },
   "outputs": [],
   "source": [
    "simple_response = client.chat.completions.create(\n",
    "    model=\"databricks-meta-llama-3-3-70b-instruct\",\n",
    "    messages=[\n",
    "        {\n",
    "            \"role\": \"system\",\n",
    "            \"content\": \"You are an expert data analyst at the Department for Education.\"\n",
    "        },\n",
    "        {\n",
    "            \"role\": \"user\",\n",
    "            \"content\": f\"\"\"\n",
    "            Below is the Data set from Key stage 4 performance National characteristics data in CSV format:\n",
    "            {ees_data_snippet}\n",
    "            \n",
    "            Please quality assure this piece of text which summarises the latest headline data:\n",
    "            {latest_headline_data_summary}\n",
    "\n",
    "            QA Instructions:\n",
    "            - Report any errors you find in the text, if there are none return \"Information accurate\".\n",
    "            - Also suggest specific missing statsitic insights at a national level. Provide the statistic too.\n",
    "            \"\"\"\n",
    "        }\n",
    "    ],\n",
    "    max_tokens=5000\n",
    ")\n",
    "\n",
    "print(simple_response.choices[0].message.content)\n"
   ]
  },
  {
   "cell_type": "markdown",
   "metadata": {
    "application/vnd.databricks.v1+cell": {
     "cellMetadata": {},
     "inputWidgets": {},
     "nuid": "5791fa23-3bf9-4eb5-9cad-1bd56307c49d",
     "showTitle": false,
     "tableResultSettingsMap": {},
     "title": ""
    }
   },
   "source": [
    "An incorrect version of the headline summary"
   ]
  },
  {
   "cell_type": "code",
   "execution_count": 0,
   "metadata": {
    "application/vnd.databricks.v1+cell": {
     "cellMetadata": {
      "byteLimit": 2048000,
      "rowLimit": 10000
     },
     "inputWidgets": {},
     "nuid": "c54aeb94-1a20-4bb3-80b4-a49b191dbe90",
     "showTitle": false,
     "tableResultSettingsMap": {},
     "title": ""
    }
   },
   "outputs": [],
   "source": [
    "simple_response = client.chat.completions.create(\n",
    "    model=\"databricks-meta-llama-3-3-70b-instruct\",\n",
    "    messages=[\n",
    "        {\n",
    "            \"role\": \"system\",\n",
    "            \"content\": \"You are an expert data analyst at the Department for Education.\"\n",
    "        },\n",
    "        {\n",
    "            \"role\": \"user\",\n",
    "            \"content\": f\"\"\"\n",
    "            Below is the Data set from Key stage 4 performance National characteristics data in CSV format:\n",
    "            {ees_data_snippet}\n",
    "            \n",
    "            Please quality assure this piece of text which summarises the latest headline data:\n",
    "            {latest_headline_data_summary_incorrect}\n",
    "\n",
    "            QA Instructions:\n",
    "            - Using the data provided report any errors you find in the text. If there are no discrepencies return \"Information accurate\".\n",
    "            - Also suggest specific missing statsitic insights at a national level. Provide the statistic too.\n",
    "            \"\"\"\n",
    "        }\n",
    "    ],\n",
    "    max_tokens=5000\n",
    ")\n",
    "\n",
    "print(simple_response.choices[0].message.content)\n"
   ]
  },
  {
   "cell_type": "markdown",
   "metadata": {
    "application/vnd.databricks.v1+cell": {
     "cellMetadata": {},
     "inputWidgets": {},
     "nuid": "4bb21f23-a316-4b7d-827c-06dacd197605",
     "showTitle": false,
     "tableResultSettingsMap": {},
     "title": ""
    }
   },
   "source": [
    "### Accessible tables"
   ]
  },
  {
   "cell_type": "code",
   "execution_count": 0,
   "metadata": {
    "application/vnd.databricks.v1+cell": {
     "cellMetadata": {
      "byteLimit": 2048000,
      "rowLimit": 10000
     },
     "inputWidgets": {},
     "nuid": "c5258370-e2f6-48eb-99c5-2994585ab5d3",
     "showTitle": false,
     "tableResultSettingsMap": {},
     "title": ""
    }
   },
   "outputs": [],
   "source": [
    "ees_table = pd.read_csv(\"../data/Table 1 Key Stage 4 headline measures for all pupils in state-funded schools in England between 201415 and 202324.csv\")\n",
    "\n",
    "ees_tabl_str = ees_table.to_csv(index=False)\n"
   ]
  },
  {
   "cell_type": "code",
   "execution_count": 0,
   "metadata": {
    "application/vnd.databricks.v1+cell": {
     "cellMetadata": {
      "byteLimit": 2048000,
      "rowLimit": 10000
     },
     "inputWidgets": {},
     "nuid": "ac287451-6536-4994-8148-69fff7d863b0",
     "showTitle": false,
     "tableResultSettingsMap": {},
     "title": ""
    }
   },
   "outputs": [],
   "source": [
    "ees_tabl_str"
   ]
  },
  {
   "cell_type": "code",
   "execution_count": 0,
   "metadata": {
    "application/vnd.databricks.v1+cell": {
     "cellMetadata": {
      "byteLimit": 2048000,
      "rowLimit": 10000
     },
     "inputWidgets": {},
     "nuid": "733314ac-c8b8-461a-9105-2ddc83b8fee6",
     "showTitle": false,
     "tableResultSettingsMap": {},
     "title": ""
    }
   },
   "outputs": [],
   "source": [
    "access_table_reponse = client.chat.completions.create(\n",
    "    model=\"databricks-meta-llama-3-3-70b-instruct\",\n",
    "    messages=[\n",
    "        {\n",
    "            \"role\": \"system\",\n",
    "            \"content\": \"You are an expert data analyst at the Department for Education.\"\n",
    "        },\n",
    "        {\n",
    "            \"role\": \"user\",\n",
    "            \"content\": f\"\"\"\n",
    "            Below is the a Table set from the Academic year 2023/24 Key stage 4 performance statistical release in CSV format:\n",
    "            {ees_tabl_str}\n",
    "            \n",
    "            Please provide an accurate and insightful summary of the table.\n",
    "            Do this for each measure.\n",
    "            This will be provided as alternative text for visually impaired users.\n",
    "            \"\"\"\n",
    "        }\n",
    "    ],\n",
    "    max_tokens=5000\n",
    ")\n",
    "\n",
    "print(access_table_reponse.choices[0].message.content)"
   ]
  },
  {
   "cell_type": "markdown",
   "metadata": {
    "application/vnd.databricks.v1+cell": {
     "cellMetadata": {
      "byteLimit": 2048000,
      "rowLimit": 10000
     },
     "inputWidgets": {},
     "nuid": "5d70bfa6-d61c-40c6-8d96-464476bb9d8b",
     "showTitle": false,
     "tableResultSettingsMap": {},
     "title": ""
    }
   },
   "source": [
    "### ChatBot"
   ]
  },
  {
   "cell_type": "code",
   "execution_count": 0,
   "metadata": {
    "application/vnd.databricks.v1+cell": {
     "cellMetadata": {
      "byteLimit": 2048000,
      "rowLimit": 10000
     },
     "inputWidgets": {},
     "nuid": "b570ba31-9afc-4783-97ff-5a22b25b2469",
     "showTitle": false,
     "tableResultSettingsMap": {},
     "title": ""
    }
   },
   "outputs": [],
   "source": [
    "# Read in the text file\n",
    "with open(\"../Scraped_data/KS4_performance.txt\", \"r\") as file:\n",
    "    ks4_performance_txt = file.read()"
   ]
  },
  {
   "cell_type": "code",
   "execution_count": 0,
   "metadata": {
    "application/vnd.databricks.v1+cell": {
     "cellMetadata": {
      "byteLimit": 2048000,
      "rowLimit": 10000
     },
     "inputWidgets": {},
     "nuid": "c491b8a3-b981-417f-878a-c74fee03c457",
     "showTitle": false,
     "tableResultSettingsMap": {},
     "title": ""
    }
   },
   "outputs": [],
   "source": [
    "user_question = \"What is the most worrying trend from this release\"\n",
    "\n",
    "chatbot_response = client.chat.completions.create(\n",
    "    model=\"databricks-meta-llama-3-3-70b-instruct\",\n",
    "    messages=[\n",
    "        {\n",
    "            \"role\": \"system\",\n",
    "            \"content\": \"You are an expert data analyst at the Department for Education. Your task is to answer people's questions regarding a DfE statistical release.\"\n",
    "        },\n",
    "        {\n",
    "            \"role\": \"user\",\n",
    "            \"content\": f\"\"\"\n",
    "            Below is the text from the DfE performance statistical release:\n",
    "            {ks4_performance_txt}\n",
    "            \n",
    "            Instructions:\n",
    "            - Answer the below user question.\n",
    "            - Use only the text provided and do not make anything up.\n",
    "            - Provide accurate statistics and information.\n",
    "\n",
    "            User question:\n",
    "            {user_question}\n",
    "            \"\"\"\n",
    "        }\n",
    "    ],\n",
    "    max_tokens=5000\n",
    ")\n",
    "\n",
    "print(chatbot_response.choices[0].message.content)"
   ]
  }
 ],
 "metadata": {
  "application/vnd.databricks.v1+notebook": {
   "computePreferences": null,
   "dashboards": [],
   "environmentMetadata": {
    "base_environment": "",
    "environment_version": "3"
   },
   "inputWidgetPreferences": null,
   "language": "python",
   "notebookMetadata": {
    "pythonIndentUnit": 4
   },
   "notebookName": "jt_ai_overview",
   "widgets": {}
  },
  "language_info": {
   "name": "python"
  }
 },
 "nbformat": 4,
 "nbformat_minor": 0
}
