{
 "cells": [
  {
   "cell_type": "markdown",
   "metadata": {
    "application/vnd.databricks.v1+cell": {
     "cellMetadata": {},
     "inputWidgets": {},
     "nuid": "b6bea8b1-a8f4-4429-a6e9-218ea336a7ee",
     "showTitle": false,
     "tableResultSettingsMap": {},
     "title": ""
    }
   },
   "source": [
    "# Numerical checks\n",
    "\n",
    "This notebook is designed to use machine learning platforms such as Hugging Face (specifically the transformers model) and scikit-learn (in particular the Isolation Forest algorithm)."
   ]
  },
  {
   "cell_type": "markdown",
   "metadata": {
    "application/vnd.databricks.v1+cell": {
     "cellMetadata": {},
     "inputWidgets": {},
     "nuid": "e5ea3f67-ada6-4eec-9d50-11d1558abb5e",
     "showTitle": false,
     "tableResultSettingsMap": {},
     "title": ""
    }
   },
   "source": [
    "## Setup and installations"
   ]
  },
  {
   "cell_type": "code",
   "execution_count": 0,
   "metadata": {
    "application/vnd.databricks.v1+cell": {
     "cellMetadata": {
      "byteLimit": 2048000,
      "rowLimit": 10000
     },
     "collapsed": true,
     "inputWidgets": {},
     "nuid": "eea04406-44cb-4b38-9d51-9851990b6964",
     "showTitle": false,
     "tableResultSettingsMap": {},
     "title": ""
    }
   },
   "outputs": [],
   "source": [
    "%pip install pandas\n",
    "%pip install openai\n",
    "%restart_python"
   ]
  },
  {
   "cell_type": "code",
   "execution_count": 0,
   "metadata": {
    "application/vnd.databricks.v1+cell": {
     "cellMetadata": {
      "byteLimit": 2048000,
      "rowLimit": 10000
     },
     "inputWidgets": {},
     "nuid": "cfd55fd8-5b76-4216-b93d-160c2e6c2fbe",
     "showTitle": false,
     "tableResultSettingsMap": {},
     "title": ""
    }
   },
   "outputs": [],
   "source": [
    "import pandas as pd\n",
    "import openai\n",
    "import os\n",
    "import json"
   ]
  },
  {
   "cell_type": "markdown",
   "metadata": {
    "application/vnd.databricks.v1+cell": {
     "cellMetadata": {},
     "inputWidgets": {},
     "nuid": "1b533486-99f1-4561-99db-2fdc7ca8047f",
     "showTitle": false,
     "tableResultSettingsMap": {},
     "title": ""
    }
   },
   "source": [
    "## Read in data from the publication of interest, check columns and data types"
   ]
  },
  {
   "cell_type": "code",
   "execution_count": 0,
   "metadata": {
    "application/vnd.databricks.v1+cell": {
     "cellMetadata": {
      "byteLimit": 2048000,
      "rowLimit": 10000
     },
     "inputWidgets": {},
     "nuid": "127e29a5-347b-44e8-83a9-7c33c4b7691a",
     "showTitle": false,
     "tableResultSettingsMap": {},
     "title": ""
    }
   },
   "outputs": [],
   "source": [
    "national_char_data = pd.read_csv(\"data/202324_national_char_data_revised.csv\")\n",
    "national_char_metadata = pd.read_csv(\"data/202324_national_char_data_revised.meta.csv\")"
   ]
  },
  {
   "cell_type": "code",
   "execution_count": 0,
   "metadata": {
    "application/vnd.databricks.v1+cell": {
     "cellMetadata": {
      "byteLimit": 2048000,
      "rowLimit": 10000
     },
     "inputWidgets": {},
     "nuid": "574052a0-ca6a-4a63-b696-024551571de4",
     "showTitle": false,
     "tableResultSettingsMap": {},
     "title": ""
    }
   },
   "outputs": [],
   "source": [
    "national_char_filtered_data = national_char_data[\n",
    "    (national_char_data['establishment_type_group'] == 'All state-funded') &\n",
    "    (national_char_data['breakdown'] == 'Total') &\n",
    "    (national_char_data['sex'] == 'Total') &\n",
    "    (national_char_data['ethnicity_major'] == 'Total') &\n",
    "    (national_char_data['ethnicity_minor'] == 'Total') &\n",
    "    (national_char_data['admission_type'] == 'Total') &\n",
    "    (national_char_data['sen_provision'] == 'Total') &\n",
    "    (national_char_data['sen_primary_need'] == 'Total') &\n",
    "    (national_char_data['sen_status'] == 'Total') &\n",
    "    (national_char_data['disadvantage'] == 'Total') &\n",
    "    (national_char_data['free_school_meals'] == 'Total') &\n",
    "    (national_char_data['first_language'] == 'Total') &\n",
    "    (national_char_data['religious_denomination'] == 'Total')\n",
    "]"
   ]
  },
  {
   "cell_type": "code",
   "execution_count": 0,
   "metadata": {
    "application/vnd.databricks.v1+cell": {
     "cellMetadata": {
      "byteLimit": 2048000,
      "rowLimit": 10000
     },
     "inputWidgets": {},
     "nuid": "980feaeb-b49b-42ca-96c2-09bc94d08c51",
     "showTitle": false,
     "tableResultSettingsMap": {},
     "title": ""
    }
   },
   "outputs": [],
   "source": [
    "display(national_char_filtered_data.head(5))"
   ]
  },
  {
   "cell_type": "code",
   "execution_count": 0,
   "metadata": {
    "application/vnd.databricks.v1+cell": {
     "cellMetadata": {
      "byteLimit": 2048000,
      "rowLimit": 10000
     },
     "inputWidgets": {},
     "nuid": "3756be4c-3ac3-4b5e-a1a4-944c3ccee287",
     "showTitle": false,
     "tableResultSettingsMap": {},
     "title": ""
    }
   },
   "outputs": [],
   "source": [
    "national_char_filtered_data = national_char_filtered_data[['time_period', 'sex', 'ethnicity_major', 'sen_provision', 'disadvantage', 'first_language', 't_pupils', 'avg_att8', 'pt_l2basics_95', 'avg_p8score', 'pt_ebacc_e_ptq_ee', 'avg_ebaccaps']]"
   ]
  },
  {
   "cell_type": "markdown",
   "metadata": {
    "application/vnd.databricks.v1+cell": {
     "cellMetadata": {},
     "inputWidgets": {},
     "nuid": "fa129d8f-5fdf-4bf3-a007-8593323a6a0d",
     "showTitle": false,
     "tableResultSettingsMap": {},
     "title": ""
    }
   },
   "source": [
    "## Convert to JSON"
   ]
  },
  {
   "cell_type": "code",
   "execution_count": 0,
   "metadata": {
    "application/vnd.databricks.v1+cell": {
     "cellMetadata": {
      "byteLimit": 2048000,
      "rowLimit": 10000
     },
     "inputWidgets": {},
     "nuid": "32a3dfe8-e6a0-4704-98a8-4e4346676028",
     "showTitle": false,
     "tableResultSettingsMap": {},
     "title": ""
    }
   },
   "outputs": [],
   "source": [
    "json_data_for_prompt = national_char_filtered_data.to_json(orient=\"records\")\n",
    "json_metadata_for_prompt = national_char_metadata.to_json(orient=\"records\")"
   ]
  },
  {
   "cell_type": "code",
   "execution_count": 0,
   "metadata": {
    "application/vnd.databricks.v1+cell": {
     "cellMetadata": {
      "byteLimit": 2048000,
      "rowLimit": 10000
     },
     "inputWidgets": {},
     "nuid": "c5aaac6b-b193-4de6-a2e1-729294cca796",
     "showTitle": false,
     "tableResultSettingsMap": {},
     "title": ""
    }
   },
   "outputs": [],
   "source": [
    "print(json_data_for_prompt)"
   ]
  },
  {
   "cell_type": "markdown",
   "metadata": {
    "application/vnd.databricks.v1+cell": {
     "cellMetadata": {},
     "inputWidgets": {},
     "nuid": "e01ad05a-372d-408f-901e-995ee0156ff3",
     "showTitle": false,
     "tableResultSettingsMap": {},
     "title": ""
    }
   },
   "source": [
    "## Query"
   ]
  },
  {
   "cell_type": "code",
   "execution_count": 0,
   "metadata": {
    "application/vnd.databricks.v1+cell": {
     "cellMetadata": {
      "byteLimit": 2048000,
      "rowLimit": 10000
     },
     "inputWidgets": {},
     "nuid": "1c42c369-4261-49d9-b0f4-6ec5e32d8b3b",
     "showTitle": false,
     "tableResultSettingsMap": {},
     "title": ""
    }
   },
   "outputs": [],
   "source": [
    "# Retrieve the API key from Databricks secrets\n",
    "DATABRICKS_TOKEN = dbutils.notebook.entry_point.getDbutils().notebook().getContext().apiToken().get()\n",
    "\n",
    "client = openai.OpenAI(\n",
    "    api_key=DATABRICKS_TOKEN,\n",
    "    base_url=\"https://adb-2220072380334347.7.azuredatabricks.net/serving-endpoints\"\n",
    ")\n",
    "\n",
    "#What is the accordion name?\n",
    "accordion_title = \"EBacc entry and achievement\"\n",
    "\n",
    "# What indicators are the focus?\n",
    "performance_measures = [\n",
    "    \"pt_ebacc_e_ptq_ee\",\n",
    "    \"pt_ebacc_94\",\n",
    "    \"pt_ebacc_95\",\n",
    "    \"avg_ebaccaps\"\n",
    "]\n",
    "\n",
    "# Define the prompt with the data and metadata\n",
    "prompt = f\"\"\"\n",
    "Here is the data:\n",
    "{json_data_for_prompt}\n",
    "Here is the metadata: \n",
    "{json_metadata_for_prompt}\n",
    "Please summarize the data within the data file with a focus on the following indicators: {performance_measures}. Use the metadata to understand what those indicators are; don't guess what the indicators are the metadata will tell you. The summary needs to fit under the heading {accordion_title}. Focus on the overall trends over time (the time_period column specifies the academic year in the format 202324 is 2023/24). but do pick out any very (emphasis on very!) interesting characteristic effects. Please also provide a table summarising the most interesting story. Please note the structure of the data, there are characteristic columns, i.e., denoted as filter columns in the metadata. When all these filter columns equal Total then you are looking at the overall data.\n",
    "\"\"\"\n",
    "# print(prompt)\n",
    "response = client.chat.completions.create(\n",
    "    model=\"databricks-meta-llama-3-3-70b-instruct\",\n",
    "    messages=[\n",
    "        {\n",
    "            \"role\": \"system\",\n",
    "            \"content\": \"You are creating narrative sections around specific policy areas based on the data provided. The narrative is a national statistics, statistical release so it has to be very matter-of-fact. \"\n",
    "        },\n",
    "        {\n",
    "            \"role\": \"user\",\n",
    "            \"content\": prompt\n",
    "        }\n",
    "    ],\n",
    "    temperature=0.01,\n",
    "    max_tokens=5000\n",
    ")\n",
    "\n",
    "print(response.choices[0].message.content)"
   ]
  },
  {
   "cell_type": "markdown",
   "metadata": {
    "application/vnd.databricks.v1+cell": {
     "cellMetadata": {},
     "inputWidgets": {},
     "nuid": "5246f2d5-b201-4ac1-b250-16170996a87b",
     "showTitle": false,
     "tableResultSettingsMap": {},
     "title": ""
    }
   },
   "source": [
    "# ARCHIVE BELOW"
   ]
  },
  {
   "cell_type": "markdown",
   "metadata": {
    "application/vnd.databricks.v1+cell": {
     "cellMetadata": {},
     "inputWidgets": {},
     "nuid": "16f3a17b-f4ae-4d18-9e2b-d870ec1fde01",
     "showTitle": false,
     "tableResultSettingsMap": {},
     "title": ""
    }
   },
   "source": [
    "## Make columns numeric where possible to do so "
   ]
  },
  {
   "cell_type": "code",
   "execution_count": 0,
   "metadata": {
    "application/vnd.databricks.v1+cell": {
     "cellMetadata": {
      "byteLimit": 2048000,
      "rowLimit": 10000
     },
     "inputWidgets": {},
     "nuid": "0aaecf3b-2b99-4d3f-8e90-32787af431f2",
     "showTitle": false,
     "tableResultSettingsMap": {},
     "title": ""
    }
   },
   "outputs": [],
   "source": [
    "convertible_cols = [\n",
    "    col for col in df.columns\n",
    "    if pd.to_numeric(df[col], errors='coerce').notna().sum() > 0\n",
    "]\n",
    "\n",
    "df_numeric = df.copy()\n",
    "df_numeric[convertible_cols] = df[convertible_cols].apply(pd.to_numeric, errors='coerce')\n",
    "\n",
    "print(\"Numeric columns:\")\n",
    "print(df_numeric.select_dtypes(include='number').columns)\n"
   ]
  },
  {
   "cell_type": "code",
   "execution_count": 0,
   "metadata": {
    "application/vnd.databricks.v1+cell": {
     "cellMetadata": {
      "byteLimit": 2048000,
      "rowLimit": 10000
     },
     "inputWidgets": {},
     "nuid": "4c8354cf-3c75-4e53-a07d-cb310904a45c",
     "showTitle": false,
     "tableResultSettingsMap": {},
     "title": ""
    }
   },
   "outputs": [],
   "source": [
    "df_numeric.head()"
   ]
  },
  {
   "cell_type": "markdown",
   "metadata": {
    "application/vnd.databricks.v1+cell": {
     "cellMetadata": {},
     "inputWidgets": {},
     "nuid": "b9c6ced7-5ccc-4fd5-b0c0-63a170e5f665",
     "showTitle": false,
     "tableResultSettingsMap": {},
     "title": ""
    }
   },
   "source": [
    "## Use Isolation Forest to look through columns for outliers"
   ]
  }
 ],
 "metadata": {
  "application/vnd.databricks.v1+notebook": {
   "computePreferences": null,
   "dashboards": [],
   "environmentMetadata": {
    "base_environment": "",
    "environment_version": "3"
   },
   "inputWidgetPreferences": null,
   "language": "python",
   "notebookMetadata": {
    "pythonIndentUnit": 4
   },
   "notebookName": "Numerical checks",
   "widgets": {}
  },
  "language_info": {
   "name": "python"
  }
 },
 "nbformat": 4,
 "nbformat_minor": 0
}
