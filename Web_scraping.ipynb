{
 "cells": [
  {
   "cell_type": "code",
   "execution_count": 0,
   "metadata": {
    "application/vnd.databricks.v1+cell": {
     "cellMetadata": {
      "byteLimit": 2048000,
      "rowLimit": 10000
     },
     "inputWidgets": {},
     "nuid": "dd466e60-bed6-43b2-93c1-55cf98c26a0d",
     "showTitle": false,
     "tableResultSettingsMap": {},
     "title": ""
    }
   },
   "outputs": [],
   "source": [
    "pip install requests beautifulsoup4"
   ]
  },
  {
   "cell_type": "code",
   "execution_count": 0,
   "metadata": {
    "application/vnd.databricks.v1+cell": {
     "cellMetadata": {
      "byteLimit": 2048000,
      "rowLimit": 10000
     },
     "inputWidgets": {},
     "nuid": "07ffa37b-9ac1-4ba8-b930-dd2aacccdece",
     "showTitle": true,
     "tableResultSettingsMap": {},
     "title": "Scrape the release"
    }
   },
   "outputs": [],
   "source": [
    "import requests\n",
    "\n",
    "url = \"https://explore-education-statistics.service.gov.uk/find-statistics/key-stage-4-performance/2023-24#explore-data-and-files\"\n",
    "response = requests.get(url)\n",
    "\n",
    "if response.status_code == 200:\n",
    "    print(\"Page fetched successfully!\")\n",
    "else:\n",
    "    print(f\"Failed to fetch page: {response.status_code}\")"
   ]
  },
  {
   "cell_type": "code",
   "execution_count": 0,
   "metadata": {
    "application/vnd.databricks.v1+cell": {
     "cellMetadata": {
      "byteLimit": 2048000,
      "rowLimit": 10000
     },
     "inputWidgets": {},
     "nuid": "32174697-e8d9-4ab1-a508-443b9cc2b125",
     "showTitle": true,
     "tableResultSettingsMap": {},
     "title": "Make the output pretty using BeautifulSoup"
    }
   },
   "outputs": [],
   "source": [
    "from bs4 import BeautifulSoup\n",
    "\n",
    "soup = BeautifulSoup(response.content, 'html.parser')\n",
    "print(soup.prettify()) # View the formatted HTML structure\n",
    "\n",
    "with open(\"full_html_scraped.txt\", \"w\") as file:\n",
    "    file.write(soup.prettify())"
   ]
  },
  {
   "cell_type": "code",
   "execution_count": 0,
   "metadata": {
    "application/vnd.databricks.v1+cell": {
     "cellMetadata": {
      "byteLimit": 2048000,
      "rowLimit": 10000
     },
     "inputWidgets": {},
     "nuid": "50668d26-1ac3-4fb5-a8d3-f7cdbb401cad",
     "showTitle": true,
     "tableResultSettingsMap": {},
     "title": "Extract the text we want from this"
    }
   },
   "outputs": [],
   "source": [
    "dfe_content = soup.find_all(\"div\", class_ = [\"dfe-content\", \"govuk-accordion__section-header\"])\n",
    "\n",
    "for section in dfe_content:\n",
    "    paragraphs = section.find_all(['p', 'h3', 'span'])\n",
    "    for para in paragraphs:\n",
    "        #print(para.text.strip())\n",
    "        print(para.get_text())\n",
    "\n",
    "#dfe_content_paras = dfe_content.find_all('p')\n",
    "#for para in dfe_content_paras:\n",
    "#    print(para.text.strip())"
   ]
  }
 ],
 "metadata": {
  "application/vnd.databricks.v1+notebook": {
   "computePreferences": null,
   "dashboards": [],
   "environmentMetadata": {
    "base_environment": "",
    "environment_version": "3"
   },
   "inputWidgetPreferences": null,
   "language": "python",
   "notebookMetadata": {
    "pythonIndentUnit": 4
   },
   "notebookName": "Web_scraping",
   "widgets": {}
  },
  "language_info": {
   "name": "python"
  }
 },
 "nbformat": 4,
 "nbformat_minor": 0
}
