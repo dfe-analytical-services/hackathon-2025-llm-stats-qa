{
 "cells": [
  {
   "cell_type": "code",
   "execution_count": 0,
   "metadata": {
    "application/vnd.databricks.v1+cell": {
     "cellMetadata": {},
     "inputWidgets": {},
     "nuid": "21ff8c4b-4fb7-407c-97fa-bccdb73bfd38",
     "showTitle": false,
     "tableResultSettingsMap": {},
     "title": ""
    }
   },
   "outputs": [],
   "source": [
    "%pip install requests\n",
    "\n",
    "%pip install openai"
   ]
  },
  {
   "cell_type": "code",
   "execution_count": 0,
   "metadata": {
    "application/vnd.databricks.v1+cell": {
     "cellMetadata": {
      "byteLimit": 2048000,
      "rowLimit": 10000
     },
     "inputWidgets": {},
     "nuid": "31ab3be4-e077-45eb-b54f-58d20cbd8027",
     "showTitle": false,
     "tableResultSettingsMap": {},
     "title": ""
    }
   },
   "outputs": [],
   "source": [
    "import requests\n",
    "\n",
    "# Define the API endpoint and your API key\n",
    "api_url = \"https://api.education.gov.uk/statistics/v1/data-sets/55629501-e98b-0c75-adba-f95a0cfbb5e9/csv?dataSetVersion=1.11\"\n",
    "#api_key = \"your_api_key_here\"\n",
    "\n",
    "\n",
    "payload = {\n",
    "    \"model\": \"gpt-4\",\n",
    "    \"messages\": [{\"role\": \"user\", \"content\": \"Can you extract data from this API?\"}],\n",
    "    \"temperature\": 0.7\n",
    "}\n",
    "\n",
    "# Make the API request\n",
    "response = requests.post(api_url, json=payload)\n",
    "\n",
    "# Handle the response\n",
    "if response.status_code == 200:\n",
    "    result = response.json()\n",
    "    print(result[\"choices\"][0][\"message\"][\"content\"])\n",
    "else:\n",
    "    print(f\"Error: {response.status_code}, {response.text}\")"
   ]
  },
  {
   "cell_type": "code",
   "execution_count": 0,
   "metadata": {
    "application/vnd.databricks.v1+cell": {
     "cellMetadata": {
      "byteLimit": 2048000,
      "rowLimit": 10000
     },
     "inputWidgets": {},
     "nuid": "0d9ac62b-4658-4e93-8750-cc5824478629",
     "showTitle": false,
     "tableResultSettingsMap": {},
     "title": ""
    }
   },
   "outputs": [],
   "source": [
    "\n",
    "\n",
    "from openai import OpenAI\n",
    "\n",
    "import os\n",
    "\n",
    "# Alternatively in a Databricks notebook you can use this:\n",
    "DATABRICKS_TOKEN = dbutils.notebook.entry_point.getDbutils().notebook().getContext().apiToken().get()\n",
    "\n",
    "client = OpenAI(\n",
    "    api_key=DATABRICKS_TOKEN,\n",
    "    base_url=\"https://adb-2220072380334347.7.azuredatabricks.net/serving-endpoints\"\n",
    ")\n",
    "\n",
    "payload = {\n",
    "    \"model\":\"databricks-meta-llama-3-3-70b-instruct\",\n",
    "    \"messages\":[\n",
    "        {\n",
    "            \"role\": \"user\",\n",
    "            \"content\": \"read this API\"\n",
    "        },\n",
    "    ],\n",
    "    \"max_tokens\":5000\n",
    "}\n",
    "\n",
    "# Make the API request\n",
    "response = requests.post(api_url, json=payload)\n",
    "\n",
    "# Handle the response\n",
    "if response.status_code == 200:\n",
    "    result = response.json()\n",
    "    print(result[\"choices\"][0][\"message\"][\"content\"])\n",
    "else:\n",
    "    print(f\"Error: {response.status_code}, {response.text}\")"
   ]
  },
  {
   "cell_type": "code",
   "execution_count": 0,
   "metadata": {
    "application/vnd.databricks.v1+cell": {
     "cellMetadata": {
      "byteLimit": 2048000,
      "rowLimit": 10000
     },
     "inputWidgets": {},
     "nuid": "96c0f0a6-0145-4bb7-b8eb-39f40c757223",
     "showTitle": false,
     "tableResultSettingsMap": {},
     "title": ""
    }
   },
   "outputs": [],
   "source": [
    "import requests\n",
    "\n",
    "response = requests.get(\"https://api.education.gov.uk/statistics/v1/data-sets/55629501-e98b-0c75-adba-f95a0cfbb5e9/csv?dataSetVersion=1.11\")\n",
    "\n",
    "print(response.text)\n"
   ]
  },
  {
   "cell_type": "code",
   "execution_count": 0,
   "metadata": {
    "application/vnd.databricks.v1+cell": {
     "cellMetadata": {
      "byteLimit": 2048000,
      "rowLimit": 10000
     },
     "inputWidgets": {},
     "nuid": "434b8bc8-8fbd-4752-b24f-4bd91b51f7d1",
     "showTitle": false,
     "tableResultSettingsMap": {},
     "title": ""
    }
   },
   "outputs": [],
   "source": [
    "requests.get('https://api.education.gov.uk/statistics/v1/data-sets/55629501-e98b-0c75-adba-f95a0cfbb5e9/data?dataSetVersion=1.11')"
   ]
  }
 ],
 "metadata": {
  "application/vnd.databricks.v1+notebook": {
   "computePreferences": null,
   "dashboards": [],
   "environmentMetadata": {
    "base_environment": "",
    "environment_version": "3"
   },
   "inputWidgetPreferences": null,
   "language": "python",
   "notebookMetadata": {
    "pythonIndentUnit": 4
   },
   "notebookName": "call_API",
   "widgets": {}
  },
  "language_info": {
   "name": "python"
  }
 },
 "nbformat": 4,
 "nbformat_minor": 0
}
